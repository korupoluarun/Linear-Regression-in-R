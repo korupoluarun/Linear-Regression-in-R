{
 "cells": [
  {
   "cell_type": "markdown",
   "metadata": {},
   "source": [
    "### The hypothesis is that car mileage is  effected by factors like car weight, engine horsepower. So we aim to develop an linear equation that would allow to predict the car mileage"
   ]
  },
  {
   "cell_type": "code",
   "execution_count": 2,
   "metadata": {},
   "outputs": [
    {
     "data": {
      "text/html": [
       "<table>\n",
       "<thead><tr><th></th><th scope=col>mpg</th><th scope=col>cyl</th><th scope=col>disp</th><th scope=col>hp</th><th scope=col>drat</th><th scope=col>wt</th><th scope=col>qsec</th><th scope=col>vs</th><th scope=col>am</th><th scope=col>gear</th><th scope=col>carb</th></tr></thead>\n",
       "<tbody>\n",
       "\t<tr><th scope=row>Mazda RX4</th><td>21.0 </td><td>6    </td><td>160  </td><td>110  </td><td>3.90 </td><td>2.620</td><td>16.46</td><td>0    </td><td>1    </td><td>4    </td><td>4    </td></tr>\n",
       "\t<tr><th scope=row>Mazda RX4 Wag</th><td>21.0 </td><td>6    </td><td>160  </td><td>110  </td><td>3.90 </td><td>2.875</td><td>17.02</td><td>0    </td><td>1    </td><td>4    </td><td>4    </td></tr>\n",
       "\t<tr><th scope=row>Datsun 710</th><td>22.8 </td><td>4    </td><td>108  </td><td> 93  </td><td>3.85 </td><td>2.320</td><td>18.61</td><td>1    </td><td>1    </td><td>4    </td><td>1    </td></tr>\n",
       "\t<tr><th scope=row>Hornet 4 Drive</th><td>21.4 </td><td>6    </td><td>258  </td><td>110  </td><td>3.08 </td><td>3.215</td><td>19.44</td><td>1    </td><td>0    </td><td>3    </td><td>1    </td></tr>\n",
       "\t<tr><th scope=row>Hornet Sportabout</th><td>18.7 </td><td>8    </td><td>360  </td><td>175  </td><td>3.15 </td><td>3.440</td><td>17.02</td><td>0    </td><td>0    </td><td>3    </td><td>2    </td></tr>\n",
       "\t<tr><th scope=row>Valiant</th><td>18.1 </td><td>6    </td><td>225  </td><td>105  </td><td>2.76 </td><td>3.460</td><td>20.22</td><td>1    </td><td>0    </td><td>3    </td><td>1    </td></tr>\n",
       "</tbody>\n",
       "</table>\n"
      ],
      "text/latex": [
       "\\begin{tabular}{r|lllllllllll}\n",
       "  & mpg & cyl & disp & hp & drat & wt & qsec & vs & am & gear & carb\\\\\n",
       "\\hline\n",
       "\tMazda RX4 & 21.0  & 6     & 160   & 110   & 3.90  & 2.620 & 16.46 & 0     & 1     & 4     & 4    \\\\\n",
       "\tMazda RX4 Wag & 21.0  & 6     & 160   & 110   & 3.90  & 2.875 & 17.02 & 0     & 1     & 4     & 4    \\\\\n",
       "\tDatsun 710 & 22.8  & 4     & 108   &  93   & 3.85  & 2.320 & 18.61 & 1     & 1     & 4     & 1    \\\\\n",
       "\tHornet 4 Drive & 21.4  & 6     & 258   & 110   & 3.08  & 3.215 & 19.44 & 1     & 0     & 3     & 1    \\\\\n",
       "\tHornet Sportabout & 18.7  & 8     & 360   & 175   & 3.15  & 3.440 & 17.02 & 0     & 0     & 3     & 2    \\\\\n",
       "\tValiant & 18.1  & 6     & 225   & 105   & 2.76  & 3.460 & 20.22 & 1     & 0     & 3     & 1    \\\\\n",
       "\\end{tabular}\n"
      ],
      "text/markdown": [
       "\n",
       "| <!--/--> | mpg | cyl | disp | hp | drat | wt | qsec | vs | am | gear | carb | \n",
       "|---|---|---|---|---|---|\n",
       "| Mazda RX4 | 21.0  | 6     | 160   | 110   | 3.90  | 2.620 | 16.46 | 0     | 1     | 4     | 4     | \n",
       "| Mazda RX4 Wag | 21.0  | 6     | 160   | 110   | 3.90  | 2.875 | 17.02 | 0     | 1     | 4     | 4     | \n",
       "| Datsun 710 | 22.8  | 4     | 108   |  93   | 3.85  | 2.320 | 18.61 | 1     | 1     | 4     | 1     | \n",
       "| Hornet 4 Drive | 21.4  | 6     | 258   | 110   | 3.08  | 3.215 | 19.44 | 1     | 0     | 3     | 1     | \n",
       "| Hornet Sportabout | 18.7  | 8     | 360   | 175   | 3.15  | 3.440 | 17.02 | 0     | 0     | 3     | 2     | \n",
       "| Valiant | 18.1  | 6     | 225   | 105   | 2.76  | 3.460 | 20.22 | 1     | 0     | 3     | 1     | \n",
       "\n",
       "\n"
      ],
      "text/plain": [
       "                  mpg  cyl disp hp  drat wt    qsec  vs am gear carb\n",
       "Mazda RX4         21.0 6   160  110 3.90 2.620 16.46 0  1  4    4   \n",
       "Mazda RX4 Wag     21.0 6   160  110 3.90 2.875 17.02 0  1  4    4   \n",
       "Datsun 710        22.8 4   108   93 3.85 2.320 18.61 1  1  4    1   \n",
       "Hornet 4 Drive    21.4 6   258  110 3.08 3.215 19.44 1  0  3    1   \n",
       "Hornet Sportabout 18.7 8   360  175 3.15 3.440 17.02 0  0  3    2   \n",
       "Valiant           18.1 6   225  105 2.76 3.460 20.22 1  0  3    1   "
      ]
     },
     "metadata": {},
     "output_type": "display_data"
    }
   ],
   "source": [
    "head(mtcars)"
   ]
  },
  {
   "cell_type": "code",
   "execution_count": null,
   "metadata": {},
   "outputs": [],
   "source": [
    "### Description of variables###\n",
    "# mpg \tMiles/(US) gallon\n",
    "# cyl \tNumber of cylinders\n",
    "# disp \tDisplacement (cu.in.)\n",
    "# hp \tGross horsepower\n",
    "# drat \tRear axle ratio\n",
    "# wt \tWeight (lb/1000)\n",
    "# qsec \t1/4 mile time\n",
    "# vs \tV/S\n",
    "# am \tTransmission (0 = automatic, 1 = manual)\n",
    "# gear \tNumber of forward gears\n",
    "# carb \tNumber of carburetors"
   ]
  },
  {
   "cell_type": "code",
   "execution_count": 3,
   "metadata": {},
   "outputs": [],
   "source": [
    "# Step 1: \n",
    "# assign data set to a dataframe name cars\n",
    "cars <- mtcars"
   ]
  },
  {
   "cell_type": "code",
   "execution_count": 4,
   "metadata": {},
   "outputs": [
    {
     "name": "stdout",
     "output_type": "stream",
     "text": [
      "'data.frame':\t32 obs. of  11 variables:\n",
      " $ mpg : num  21 21 22.8 21.4 18.7 18.1 14.3 24.4 22.8 19.2 ...\n",
      " $ cyl : num  6 6 4 6 8 6 8 4 4 6 ...\n",
      " $ disp: num  160 160 108 258 360 ...\n",
      " $ hp  : num  110 110 93 110 175 105 245 62 95 123 ...\n",
      " $ drat: num  3.9 3.9 3.85 3.08 3.15 2.76 3.21 3.69 3.92 3.92 ...\n",
      " $ wt  : num  2.62 2.88 2.32 3.21 3.44 ...\n",
      " $ qsec: num  16.5 17 18.6 19.4 17 ...\n",
      " $ vs  : num  0 0 1 1 0 1 0 1 1 1 ...\n",
      " $ am  : num  1 1 1 0 0 0 0 0 0 0 ...\n",
      " $ gear: num  4 4 4 3 3 3 3 4 4 4 ...\n",
      " $ carb: num  4 4 1 1 2 1 4 2 2 4 ...\n"
     ]
    }
   ],
   "source": [
    "#structure of cars data frame\n",
    "str(cars)\n"
   ]
  },
  {
   "cell_type": "code",
   "execution_count": 5,
   "metadata": {},
   "outputs": [
    {
     "data": {
      "text/plain": [
       "   Min. 1st Qu.  Median    Mean 3rd Qu.    Max. \n",
       "  4.000   4.000   6.000   6.188   8.000   8.000 "
      ]
     },
     "metadata": {},
     "output_type": "display_data"
    }
   ],
   "source": [
    "# descriptive and univariate analysis\n",
    "with(cars,{summary(cars$cyl)})"
   ]
  },
  {
   "cell_type": "code",
   "execution_count": 7,
   "metadata": {},
   "outputs": [
    {
     "data": {
      "image/png": "[encoded data removed]",
      "text/plain": [
       "Plot with title \"Histogram of cars$cyl\""
      ]
     },
     "metadata": {},
     "output_type": "display_data"
    }
   ],
   "source": [
    "# Descriptive and univariate analysis, analysing the distrbution of data in each attribute: horspower, weight,miles per gallon\n",
    "# and number of cylinders\n",
    "\n",
    "# here our task is to identify the skew of the distribution and infer any interesting insights and make notes\n",
    "\n",
    "par(mfrow= c(2,2))\n",
    "with(cars,{\n",
    "hist(cars$hp)  # histogram of horsepower\n",
    "hist(cars$wt)  # histogram of weights of cars\n",
    "hist(cars$mpg) # histogram of mileage data\n",
    "hist(cars$cyl) # histogram of number of engine cylinders\n",
    "})"
   ]
  },
  {
   "cell_type": "code",
   "execution_count": 8,
   "metadata": {},
   "outputs": [
    {
     "data": {
      "image/png": "[encoded data removed]",
      "text/plain": [
       "Plot with title \"nr. cylinders vs engine displacment\""
      ]
     },
     "metadata": {},
     "output_type": "display_data"
    }
   ],
   "source": [
    "# Step 2: Trying to understand the relationship between variables using bivariate analysis steps\n",
    "# create a scatter plot to understand the relationship between weight and mileage\n",
    "# create a scatter plot to understand the relationship between weight and horsepower\n",
    "# create a scatter plot to understand the relationship between horsepower and mileage \n",
    "# create a scatter plot to understand the relationship between number of cyalinders and engine displacment \n",
    "par(mfrow=c(2,2))\n",
    "plot(cars$wt, cars$mpg, xlab = \"weight - independent variable\", ylab = \"mileage - dependent variable\", main = \"weight vs mileage per gallon\")\n",
    "plot(cars$wt, cars$hp, xlab = \"weight - independent variable\", ylab = \"horsepower - dependent variable\", main = \"weight vs horsepower\")\n",
    "plot(cars$hp, cars$mpg, xlab = \"horsepower - independent variable\", ylab = \"mileage - dependent variable\", main = \"horsepower vs mileage\")\n",
    "plot(cars$cyl, cars$disp, xlab = \"cylinders - independent variable\", ylab = \"engine displacment - dependent variable\", main = \"nr. cylinders vs engine displacment\")\n"
   ]
  },
  {
   "cell_type": "code",
   "execution_count": 16,
   "metadata": {},
   "outputs": [
    {
     "data": {
      "text/html": [
       "-0.867659376517228"
      ],
      "text/latex": [
       "-0.867659376517228"
      ],
      "text/markdown": [
       "-0.867659376517228"
      ],
      "text/plain": [
       "[1] -0.8676594"
      ]
     },
     "metadata": {},
     "output_type": "display_data"
    },
    {
     "data": {
      "text/html": [
       "0.790948586369806"
      ],
      "text/latex": [
       "0.790948586369806"
      ],
      "text/markdown": [
       "0.790948586369806"
      ],
      "text/plain": [
       "[1] 0.7909486"
      ]
     },
     "metadata": {},
     "output_type": "display_data"
    },
    {
     "data": {
      "text/html": [
       "-0.712440646697372"
      ],
      "text/latex": [
       "-0.712440646697372"
      ],
      "text/markdown": [
       "-0.712440646697372"
      ],
      "text/plain": [
       "[1] -0.7124406"
      ]
     },
     "metadata": {},
     "output_type": "display_data"
    },
    {
     "data": {
      "text/html": [
       "0.681171907806749"
      ],
      "text/latex": [
       "0.681171907806749"
      ],
      "text/markdown": [
       "0.681171907806749"
      ],
      "text/plain": [
       "[1] 0.6811719"
      ]
     },
     "metadata": {},
     "output_type": "display_data"
    }
   ],
   "source": [
    "# if you want to quantify the linear relations\n",
    "# The correlation coefficient of two variables in a data set \n",
    "# equals to their covariance divided by the product of their\n",
    "# individual standard deviations. It is a normalized measurement \n",
    "# of how the two are linearly related\n",
    "# correlation of +1 indicates a strong positive linear relationship\n",
    "# correlation of 0 indicates no linear relationship\n",
    "# coreelation of -1 indicates a strong negative relationship\n",
    "\n",
    "par(mfrow=c(2,2))\n",
    "cor(cars$wt, cars$mpg) # indicates a negative linear relationship\n",
    "cor(cars$hp, cars$disp) # indicates a positive linear relationsip\n",
    "cor(cars$wt, cars$drat)\n",
    "cor(cars$drat, cars$mpg)\n"
   ]
  },
  {
   "cell_type": "code",
   "execution_count": 18,
   "metadata": {},
   "outputs": [
    {
     "name": "stdout",
     "output_type": "stream",
     "text": [
      "                     mpg cyl  disp  hp drat    wt  qsec vs am gear carb\n",
      "Mazda RX4           21.0   6 160.0 110 3.90 2.620 16.46  0  1    4    4\n",
      "Mazda RX4 Wag       21.0   6 160.0 110 3.90 2.875 17.02  0  1    4    4\n",
      "Datsun 710          22.8   4 108.0  93 3.85 2.320 18.61  1  1    4    1\n",
      "Hornet 4 Drive      21.4   6 258.0 110 3.08 3.215 19.44  1  0    3    1\n",
      "Hornet Sportabout   18.7   8 360.0 175 3.15 3.440 17.02  0  0    3    2\n",
      "Valiant             18.1   6 225.0 105 2.76 3.460 20.22  1  0    3    1\n",
      "Duster 360          14.3   8 360.0 245 3.21 3.570 15.84  0  0    3    4\n",
      "Merc 240D           24.4   4 146.7  62 3.69 3.190 20.00  1  0    4    2\n",
      "Merc 230            22.8   4 140.8  95 3.92 3.150 22.90  1  0    4    2\n",
      "Merc 280            19.2   6 167.6 123 3.92 3.440 18.30  1  0    4    4\n",
      "Merc 280C           17.8   6 167.6 123 3.92 3.440 18.90  1  0    4    4\n",
      "Merc 450SE          16.4   8 275.8 180 3.07 4.070 17.40  0  0    3    3\n",
      "Merc 450SL          17.3   8 275.8 180 3.07 3.730 17.60  0  0    3    3\n",
      "Merc 450SLC         15.2   8 275.8 180 3.07 3.780 18.00  0  0    3    3\n",
      "Cadillac Fleetwood  10.4   8 472.0 205 2.93 5.250 17.98  0  0    3    4\n",
      "Lincoln Continental 10.4   8 460.0 215 3.00 5.424 17.82  0  0    3    4\n",
      "Chrysler Imperial   14.7   8 440.0 230 3.23 5.345 17.42  0  0    3    4\n",
      "Fiat 128            32.4   4  78.7  66 4.08 2.200 19.47  1  1    4    1\n",
      "Honda Civic         30.4   4  75.7  52 4.93 1.615 18.52  1  1    4    2\n",
      "Toyota Corolla      33.9   4  71.1  65 4.22 1.835 19.90  1  1    4    1\n",
      "Toyota Corona       21.5   4 120.1  97 3.70 2.465 20.01  1  0    3    1\n",
      "Dodge Challenger    15.5   8 318.0 150 2.76 3.520 16.87  0  0    3    2\n",
      "AMC Javelin         15.2   8 304.0 150 3.15 3.435 17.30  0  0    3    2\n",
      "Camaro Z28          13.3   8 350.0 245 3.73 3.840 15.41  0  0    3    4\n",
      "Pontiac Firebird    19.2   8 400.0 175 3.08 3.845 17.05  0  0    3    2\n",
      "Fiat X1-9           27.3   4  79.0  66 4.08 1.935 18.90  1  1    4    1\n",
      "Porsche 914-2       26.0   4 120.3  91 4.43 2.140 16.70  0  1    5    2\n",
      "Lotus Europa        30.4   4  95.1 113 3.77 1.513 16.90  1  1    5    2\n",
      "Ford Pantera L      15.8   8 351.0 264 4.22 3.170 14.50  0  1    5    4\n",
      "Ferrari Dino        19.7   6 145.0 175 3.62 2.770 15.50  0  1    5    6\n",
      "Maserati Bora       15.0   8 301.0 335 3.54 3.570 14.60  0  1    5    8\n",
      "Volvo 142E          21.4   4 121.0 109 4.11 2.780 18.60  1  1    4    2\n"
     ]
    }
   ],
   "source": [
    "# identify variables we could we use for Linear regression analysis\n",
    "# lets convert nominal numerical data into factors\n",
    "print(mtcars)\n",
    "cars$am <- as.factor(cars$am) # \"am\" variable has nominal values 0 - automatic transmission  and 1 - manual transmission\n",
    "levels(cars$am) <- c(\"Auto-Transmission\", \"Manual-Transmission\")\n"
   ]
  },
  {
   "cell_type": "code",
   "execution_count": 42,
   "metadata": {},
   "outputs": [
    {
     "data": {
      "image/png": "[encoded data removed]",
      "text/plain": [
       "Plot with title \"transmission type vs horsepower\""
      ]
     },
     "metadata": {},
     "output_type": "display_data"
    }
   ],
   "source": [
    "# identify which category of cars i.e. auto or manual transmission have low median mileages\n",
    "\n",
    "par(mfrow=c(2,2))\n",
    "boxplot(cars$mpg~cars$am, main=\"transmission type vs mileage\")\n",
    "boxplot(cars$hp~cars$am, main = \"transmission type vs horsepower\")"
   ]
  },
  {
   "cell_type": "code",
   "execution_count": 43,
   "metadata": {},
   "outputs": [
    {
     "data": {
      "text/plain": [
       "\n",
       "Call:\n",
       "lm(formula = mpg ~ wt, data = cars)\n",
       "\n",
       "Residuals:\n",
       "    Min      1Q  Median      3Q     Max \n",
       "-4.5432 -2.3647 -0.1252  1.4096  6.8727 \n",
       "\n",
       "Coefficients:\n",
       "            Estimate Std. Error t value Pr(>|t|)    \n",
       "(Intercept)  37.2851     1.8776  19.858  < 2e-16 ***\n",
       "wt           -5.3445     0.5591  -9.559 1.29e-10 ***\n",
       "---\n",
       "Signif. codes:  0 '***' 0.001 '**' 0.01 '*' 0.05 '.' 0.1 ' ' 1\n",
       "\n",
       "Residual standard error: 3.046 on 30 degrees of freedom\n",
       "Multiple R-squared:  0.7528,\tAdjusted R-squared:  0.7446 \n",
       "F-statistic: 91.38 on 1 and 30 DF,  p-value: 1.294e-10\n"
      ]
     },
     "metadata": {},
     "output_type": "display_data"
    },
    {
     "data": {
      "image/png": "[encoded data removed]",
      "text/plain": [
       "Plot with title \"\""
      ]
     },
     "metadata": {},
     "output_type": "display_data"
    }
   ],
   "source": [
    "# Applying linear regression model to predict car mileage\n",
    "#y = mx + c   :   equation of the regression line or best fit line.where 'm' is the slope of the line and 'c' is the y-intercept.\n",
    "# developing a model with single independent and a dependent variable\n",
    "#The model above is achieved by using the lm() function in R and \n",
    "#the output is called using the summary() function on the model.\n",
    "# reference:www.dummies.com/education/math/statistics/how-to-calculate-a-regression-line/\n",
    "# reference:docs.statwing.com/interpreting-residual-plots-to-improve-your-regression/ \n",
    "par(mfrow=c(2,2))\n",
    "lm_single <- lm(mpg~wt, data=cars)\n",
    "summary(lm_single) # print linear model output\n",
    "plot(lm_single)\n",
    "\n"
   ]
  },
  {
   "cell_type": "code",
   "execution_count": null,
   "metadata": {},
   "outputs": [],
   "source": [
    "# Derive linear model interpreting the summary results\n",
    "# docs.statwing.com/interpreting-residual-plots-to-improve-your-regression/\n",
    "# Y = a + m1*X1 + m2*X2 + ... + mp*Xp\n",
    "# developing a model with multiple independent and a dependent variable\n",
    "# identify values for intercept \n",
    "# identify weight coefficient estimate\n",
    "# ping in the values in y=mx+c\n",
    "# here X is the known independent value like the weight of the car\n",
    "# Y is unknown dependent value\n",
    "# 'C' is the intercept value\n",
    "# 'm' is the slope or regression coefficient\n",
    "# make sure your unknown predicted value is within the weight range of the cars in the dataset"
   ]
  },
  {
   "cell_type": "code",
   "execution_count": 21,
   "metadata": {},
   "outputs": [
    {
     "data": {
      "text/html": [
       "3.21725"
      ],
      "text/latex": [
       "3.21725"
      ],
      "text/markdown": [
       "3.21725"
      ],
      "text/plain": [
       "[1] 3.21725"
      ]
     },
     "metadata": {},
     "output_type": "display_data"
    }
   ],
   "source": [
    "mean(cars$wt)"
   ]
  },
  {
   "cell_type": "code",
   "execution_count": 25,
   "metadata": {},
   "outputs": [
    {
     "name": "stdout",
     "output_type": "stream",
     "text": [
      "the predicted mileage is: 20.08917"
     ]
    }
   ],
   "source": [
    "#let plug in the mean weight value in to equation y=mx+c to predict mileage of car when its weight 3.2175 lbs\n",
    "y <- (3.2175*-5.3445)+37.2851\n",
    "cat(\"the predicted mileage is:\",y )\n"
   ]
  },
  {
   "cell_type": "code",
   "execution_count": 24,
   "metadata": {},
   "outputs": [
    {
     "name": "stdout",
     "output_type": "stream",
     "text": [
      "                     mpg cyl  disp  hp drat    wt  qsec vs                  am\n",
      "Mazda RX4           21.0   6 160.0 110 3.90 2.620 16.46  0 Manual-Transmission\n",
      "Mazda RX4 Wag       21.0   6 160.0 110 3.90 2.875 17.02  0 Manual-Transmission\n",
      "Datsun 710          22.8   4 108.0  93 3.85 2.320 18.61  1 Manual-Transmission\n",
      "Hornet 4 Drive      21.4   6 258.0 110 3.08 3.215 19.44  1   Auto-Transmission\n",
      "Hornet Sportabout   18.7   8 360.0 175 3.15 3.440 17.02  0   Auto-Transmission\n",
      "Valiant             18.1   6 225.0 105 2.76 3.460 20.22  1   Auto-Transmission\n",
      "Duster 360          14.3   8 360.0 245 3.21 3.570 15.84  0   Auto-Transmission\n",
      "Merc 240D           24.4   4 146.7  62 3.69 3.190 20.00  1   Auto-Transmission\n",
      "Merc 230            22.8   4 140.8  95 3.92 3.150 22.90  1   Auto-Transmission\n",
      "Merc 280            19.2   6 167.6 123 3.92 3.440 18.30  1   Auto-Transmission\n",
      "Merc 280C           17.8   6 167.6 123 3.92 3.440 18.90  1   Auto-Transmission\n",
      "Merc 450SE          16.4   8 275.8 180 3.07 4.070 17.40  0   Auto-Transmission\n",
      "Merc 450SL          17.3   8 275.8 180 3.07 3.730 17.60  0   Auto-Transmission\n",
      "Merc 450SLC         15.2   8 275.8 180 3.07 3.780 18.00  0   Auto-Transmission\n",
      "Cadillac Fleetwood  10.4   8 472.0 205 2.93 5.250 17.98  0   Auto-Transmission\n",
      "Lincoln Continental 10.4   8 460.0 215 3.00 5.424 17.82  0   Auto-Transmission\n",
      "Chrysler Imperial   14.7   8 440.0 230 3.23 5.345 17.42  0   Auto-Transmission\n",
      "Fiat 128            32.4   4  78.7  66 4.08 2.200 19.47  1 Manual-Transmission\n",
      "Honda Civic         30.4   4  75.7  52 4.93 1.615 18.52  1 Manual-Transmission\n",
      "Toyota Corolla      33.9   4  71.1  65 4.22 1.835 19.90  1 Manual-Transmission\n",
      "Toyota Corona       21.5   4 120.1  97 3.70 2.465 20.01  1   Auto-Transmission\n",
      "Dodge Challenger    15.5   8 318.0 150 2.76 3.520 16.87  0   Auto-Transmission\n",
      "AMC Javelin         15.2   8 304.0 150 3.15 3.435 17.30  0   Auto-Transmission\n",
      "Camaro Z28          13.3   8 350.0 245 3.73 3.840 15.41  0   Auto-Transmission\n",
      "Pontiac Firebird    19.2   8 400.0 175 3.08 3.845 17.05  0   Auto-Transmission\n",
      "Fiat X1-9           27.3   4  79.0  66 4.08 1.935 18.90  1 Manual-Transmission\n",
      "Porsche 914-2       26.0   4 120.3  91 4.43 2.140 16.70  0 Manual-Transmission\n",
      "Lotus Europa        30.4   4  95.1 113 3.77 1.513 16.90  1 Manual-Transmission\n",
      "Ford Pantera L      15.8   8 351.0 264 4.22 3.170 14.50  0 Manual-Transmission\n",
      "Ferrari Dino        19.7   6 145.0 175 3.62 2.770 15.50  0 Manual-Transmission\n",
      "Maserati Bora       15.0   8 301.0 335 3.54 3.570 14.60  0 Manual-Transmission\n",
      "Volvo 142E          21.4   4 121.0 109 4.11 2.780 18.60  1 Manual-Transmission\n",
      "                    gear carb\n",
      "Mazda RX4              4    4\n",
      "Mazda RX4 Wag          4    4\n",
      "Datsun 710             4    1\n",
      "Hornet 4 Drive         3    1\n",
      "Hornet Sportabout      3    2\n",
      "Valiant                3    1\n",
      "Duster 360             3    4\n",
      "Merc 240D              4    2\n",
      "Merc 230               4    2\n",
      "Merc 280               4    4\n",
      "Merc 280C              4    4\n",
      "Merc 450SE             3    3\n",
      "Merc 450SL             3    3\n",
      "Merc 450SLC            3    3\n",
      "Cadillac Fleetwood     3    4\n",
      "Lincoln Continental    3    4\n",
      "Chrysler Imperial      3    4\n",
      "Fiat 128               4    1\n",
      "Honda Civic            4    2\n",
      "Toyota Corolla         4    1\n",
      "Toyota Corona          3    1\n",
      "Dodge Challenger       3    2\n",
      "AMC Javelin            3    2\n",
      "Camaro Z28             3    4\n",
      "Pontiac Firebird       3    2\n",
      "Fiat X1-9              4    1\n",
      "Porsche 914-2          5    2\n",
      "Lotus Europa           5    2\n",
      "Ford Pantera L         5    4\n",
      "Ferrari Dino           5    6\n",
      "Maserati Bora          5    8\n",
      "Volvo 142E             4    2\n"
     ]
    }
   ],
   "source": [
    "print(cars) # compare mileage for similar car weight value"
   ]
  },
  {
   "cell_type": "code",
   "execution_count": 34,
   "metadata": {},
   "outputs": [
    {
     "name": "stdout",
     "output_type": "stream",
     "text": [
      "          Mazda RX4       Mazda RX4 Wag          Datsun 710      Hornet 4 Drive \n",
      "          23.282611           21.919770           24.885952           20.102650 \n",
      "  Hornet Sportabout             Valiant          Duster 360           Merc 240D \n",
      "          18.900144           18.793255           18.205363           20.236262 \n",
      "           Merc 230            Merc 280           Merc 280C          Merc 450SE \n",
      "          20.450041           18.900144           18.900144           15.533127 \n",
      "         Merc 450SL         Merc 450SLC  Cadillac Fleetwood Lincoln Continental \n",
      "          17.350247           17.083024            9.226650            8.296712 \n",
      "  Chrysler Imperial            Fiat 128         Honda Civic      Toyota Corolla \n",
      "           8.718926           25.527289           28.653805           27.478021 \n",
      "      Toyota Corona    Dodge Challenger         AMC Javelin          Camaro Z28 \n",
      "          24.111004           18.472586           18.926866           16.762355 \n",
      "   Pontiac Firebird           Fiat X1-9       Porsche 914-2        Lotus Europa \n",
      "          16.735633           26.943574           25.847957           29.198941 \n",
      "     Ford Pantera L        Ferrari Dino       Maserati Bora          Volvo 142E \n",
      "          20.343151           22.480940           18.205363           22.427495 \n"
     ]
    }
   ],
   "source": [
    "predicted_mpg <- predict(lm_single, data=cars)  #use this linear model to predict mileage values for existing data in cars dataframe\n",
    "print (predicted_mpg)\n",
    "calculate_residual_values <- cbind(cars$mpg, predicted_mpg)\n",
    "# spot the differences betwwen actual values and observed values these are call residual values"
   ]
  },
  {
   "cell_type": "code",
   "execution_count": 35,
   "metadata": {},
   "outputs": [
    {
     "name": "stdout",
     "output_type": "stream",
     "text": [
      "                         predicted_mpg\n",
      "Mazda RX4           21.0     23.282611\n",
      "Mazda RX4 Wag       21.0     21.919770\n",
      "Datsun 710          22.8     24.885952\n",
      "Hornet 4 Drive      21.4     20.102650\n",
      "Hornet Sportabout   18.7     18.900144\n",
      "Valiant             18.1     18.793255\n",
      "Duster 360          14.3     18.205363\n",
      "Merc 240D           24.4     20.236262\n",
      "Merc 230            22.8     20.450041\n",
      "Merc 280            19.2     18.900144\n",
      "Merc 280C           17.8     18.900144\n",
      "Merc 450SE          16.4     15.533127\n",
      "Merc 450SL          17.3     17.350247\n",
      "Merc 450SLC         15.2     17.083024\n",
      "Cadillac Fleetwood  10.4      9.226650\n",
      "Lincoln Continental 10.4      8.296712\n",
      "Chrysler Imperial   14.7      8.718926\n",
      "Fiat 128            32.4     25.527289\n",
      "Honda Civic         30.4     28.653805\n",
      "Toyota Corolla      33.9     27.478021\n",
      "Toyota Corona       21.5     24.111004\n",
      "Dodge Challenger    15.5     18.472586\n",
      "AMC Javelin         15.2     18.926866\n",
      "Camaro Z28          13.3     16.762355\n",
      "Pontiac Firebird    19.2     16.735633\n",
      "Fiat X1-9           27.3     26.943574\n",
      "Porsche 914-2       26.0     25.847957\n",
      "Lotus Europa        30.4     29.198941\n",
      "Ford Pantera L      15.8     20.343151\n",
      "Ferrari Dino        19.7     22.480940\n",
      "Maserati Bora       15.0     18.205363\n",
      "Volvo 142E          21.4     22.427495\n"
     ]
    }
   ],
   "source": [
    "print(calculate_residual_values)"
   ]
  },
  {
   "cell_type": "code",
   "execution_count": 37,
   "metadata": {},
   "outputs": [
    {
     "name": "stdout",
     "output_type": "stream",
     "text": [
      "          Mazda RX4       Mazda RX4 Wag          Datsun 710      Hornet 4 Drive \n",
      "         -2.2826106          -0.9197704          -2.0859521           1.2973499 \n",
      "  Hornet Sportabout             Valiant          Duster 360           Merc 240D \n",
      "         -0.2001440          -0.6932545          -3.9053627           4.1637381 \n",
      "           Merc 230            Merc 280           Merc 280C          Merc 450SE \n",
      "          2.3499593           0.2998560          -1.1001440           0.8668731 \n",
      "         Merc 450SL         Merc 450SLC  Cadillac Fleetwood Lincoln Continental \n",
      "         -0.0502472          -1.8830236           1.1733496           2.1032876 \n",
      "  Chrysler Imperial            Fiat 128         Honda Civic      Toyota Corolla \n",
      "          5.9810744           6.8727113           1.7461954           6.4219792 \n",
      "      Toyota Corona    Dodge Challenger         AMC Javelin          Camaro Z28 \n",
      "         -2.6110037          -2.9725862          -3.7268663          -3.4623553 \n",
      "   Pontiac Firebird           Fiat X1-9       Porsche 914-2        Lotus Europa \n",
      "          2.4643670           0.3564263           0.1520430           1.2010593 \n",
      "     Ford Pantera L        Ferrari Dino       Maserati Bora          Volvo 142E \n",
      "         -4.5431513          -2.7809399          -3.2053627          -1.0274952 \n"
     ]
    }
   ],
   "source": [
    "residual_values <- cars$mpg - predicted_mpg\n",
    "print(residual_values)"
   ]
  },
  {
   "cell_type": "code",
   "execution_count": 51,
   "metadata": {},
   "outputs": [
    {
     "data": {
      "image/png": "[encoded data removed]",
      "text/plain": [
       "plot without title"
      ]
     },
     "metadata": {},
     "output_type": "display_data"
    }
   ],
   "source": [
    "par(mfrow=c(2,2))\n",
    "plot(cars$mpg~predicted_mpg)\n",
    "plot(cars$mpg~residual_values)\n"
   ]
  },
  {
   "cell_type": "code",
   "execution_count": null,
   "metadata": {},
   "outputs": [],
   "source": []
  }
 ],
 "metadata": {
  "kernelspec": {
   "display_name": "R",
   "language": "R",
   "name": "ir"
  },
  "language_info": {
   "codemirror_mode": "r",
   "file_extension": ".r",
   "mimetype": "text/x-r-source",
   "name": "R",
   "pygments_lexer": "r",
   "version": "3.4.3"
  }
 },
 "nbformat": 4,
 "nbformat_minor": 2
}
